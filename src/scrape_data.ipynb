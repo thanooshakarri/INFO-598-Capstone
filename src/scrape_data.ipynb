{
 "cells": [
  {
   "cell_type": "code",
   "execution_count": 25,
   "metadata": {},
   "outputs": [
    {
     "name": "stdout",
     "output_type": "stream",
     "text": [
      "['FARS2020NationalCSV/accident.csv', 'FARS2020NationalCSV/cevent.csv', 'FARS2020NationalCSV/crashrf.csv', 'FARS2020NationalCSV/damage.csv', 'FARS2020NationalCSV/distract.csv', 'FARS2020NationalCSV/drimpair.csv', 'FARS2020NationalCSV/driverrf.csv', 'FARS2020NationalCSV/drugs.csv', 'FARS2020NationalCSV/factor.csv', 'FARS2020NationalCSV/maneuver.csv', 'FARS2020NationalCSV/miacc.csv', 'FARS2020NationalCSV/midrvacc.csv', 'FARS2020NationalCSV/miper.csv', 'FARS2020NationalCSV/nmcrash.csv', 'FARS2020NationalCSV/nmdistract.csv', 'FARS2020NationalCSV/nmimpair.csv', 'FARS2020NationalCSV/nmprior.csv', 'FARS2020NationalCSV/parkwork.csv', 'FARS2020NationalCSV/pbtype.csv', 'FARS2020NationalCSV/person.csv', 'FARS2020NationalCSV/personrf.csv', 'FARS2020NationalCSV/pvehiclesf.csv', 'FARS2020NationalCSV/race.csv', 'FARS2020NationalCSV/safetyeq.csv', 'FARS2020NationalCSV/vehicle.csv', 'FARS2020NationalCSV/vehiclesf.csv', 'FARS2020NationalCSV/vevent.csv', 'FARS2020NationalCSV/violatn.csv', 'FARS2020NationalCSV/vision.csv', 'FARS2020NationalCSV/vpicdecode.csv', 'FARS2020NationalCSV/vpictrailerdecode.csv', 'FARS2020NationalCSV/vsoe.csv', 'FARS2020NationalCSV/weather.csv']\n",
      "['FARS2021NationalCSV/accident.csv', 'FARS2021NationalCSV/cevent.csv', 'FARS2021NationalCSV/crashrf.csv', 'FARS2021NationalCSV/damage.csv', 'FARS2021NationalCSV/distract.csv', 'FARS2021NationalCSV/drimpair.csv', 'FARS2021NationalCSV/driverrf.csv', 'FARS2021NationalCSV/drugs.csv', 'FARS2021NationalCSV/factor.csv', 'FARS2021NationalCSV/maneuver.csv', 'FARS2021NationalCSV/miacc.csv', 'FARS2021NationalCSV/midrvacc.csv', 'FARS2021NationalCSV/miper.csv', 'FARS2021NationalCSV/nmcrash.csv', 'FARS2021NationalCSV/nmdistract.csv', 'FARS2021NationalCSV/nmimpair.csv', 'FARS2021NationalCSV/nmprior.csv', 'FARS2021NationalCSV/parkwork.csv', 'FARS2021NationalCSV/pbtype.csv', 'FARS2021NationalCSV/person.csv', 'FARS2021NationalCSV/personrf.csv', 'FARS2021NationalCSV/pvehiclesf.csv', 'FARS2021NationalCSV/race.csv', 'FARS2021NationalCSV/safetyeq.csv', 'FARS2021NationalCSV/vehicle.csv', 'FARS2021NationalCSV/vehiclesf.csv', 'FARS2021NationalCSV/vevent.csv', 'FARS2021NationalCSV/violatn.csv', 'FARS2021NationalCSV/vision.csv', 'FARS2021NationalCSV/vpicdecode.csv', 'FARS2021NationalCSV/vpictrailerdecode.csv', 'FARS2021NationalCSV/vsoe.csv', 'FARS2021NationalCSV/weather.csv']\n"
     ]
    }
   ],
   "source": [
    "import requests\n",
    "from bs4 import BeautifulSoup\n",
    "import os\n",
    "import zipfile\n",
    "import io\n",
    "\n",
    "\n",
    "# Base URL of the website\n",
    "base_url = 'https://www.nhtsa.gov/file-downloads?p=nhtsa/downloads/FARS/'\n",
    "\n",
    "def get_csv_links(year):\n",
    "    # Construct the URL for the specific year\n",
    "    year_url = f'{base_url}{year}/National/'\n",
    "    # Send a GET request\n",
    "    response = requests.get(year_url)\n",
    "    if response.status_code == 200:\n",
    "        soup = BeautifulSoup(response.content, 'html.parser')\n",
    "        links = [a['href'] for a in soup.find_all('a', href=True) if 'NationalCSV.zip' in a['href']]\n",
    "        filtered_strings = [s for s in links if s.startswith(\"http\")]\n",
    "        return filtered_strings\n",
    "    else:\n",
    "        return []\n",
    "\n",
    "def download_and_extract_csv(year, links, target_folder):\n",
    "    for link in links:\n",
    "        response = requests.get(link)\n",
    "        if response.status_code == 200:\n",
    "            # Open the ZIP file\n",
    "            zip_file = zipfile.ZipFile(io.BytesIO(response.content))\n",
    "            # Extract accidents.csv\n",
    "            print(zip_file.namelist())\n",
    "            for file in zip_file.namelist():\n",
    "                if 'FARS2021NationalCSV/accident.csv' in file:\n",
    "                    zip_file.extract(file, target_folder)\n",
    "                    os.rename(os.path.join(target_folder, file), os.path.join(target_folder, f'accidents_{year}.csv'))\n",
    "                    break\n",
    "\n",
    "for year in range(2020, 2021+1):\n",
    "    csv_links = get_csv_links(year)\n",
    "    download_and_extract_csv(year, csv_links, \"data/\")"
   ]
  }
 ],
 "metadata": {
  "kernelspec": {
   "display_name": "Python 3",
   "language": "python",
   "name": "python3"
  },
  "language_info": {
   "codemirror_mode": {
    "name": "ipython",
    "version": 3
   },
   "file_extension": ".py",
   "mimetype": "text/x-python",
   "name": "python",
   "nbconvert_exporter": "python",
   "pygments_lexer": "ipython3",
   "version": "3.11.5"
  }
 },
 "nbformat": 4,
 "nbformat_minor": 2
}
